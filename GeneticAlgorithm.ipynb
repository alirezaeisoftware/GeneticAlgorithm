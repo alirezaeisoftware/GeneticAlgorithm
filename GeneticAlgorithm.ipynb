{
 "cells": [
  {
   "cell_type": "markdown",
   "metadata": {
    "isInteractiveWindowMessageCell": true
   },
   "source": [
    "Connected to Python 3.12.0"
   ]
  },
  {
   "cell_type": "code",
   "execution_count": 1,
   "metadata": {},
   "outputs": [],
   "source": [
    "import random as rn"
   ]
  },
  {
   "cell_type": "code",
   "execution_count": 2,
   "metadata": {},
   "outputs": [],
   "source": [
    "def CreatCH(n):\n",
    "    ch=[rn.randint(1, n) for i in range(n)]\n",
    "    return ch"
   ]
  },
  {
   "cell_type": "code",
   "execution_count": 3,
   "metadata": {},
   "outputs": [],
   "source": [
    "def Fitnes(p):\n",
    "    n=len(p)\n",
    "    f=0\n",
    "    for i in range(n-1):\n",
    "        for j in range(i+1,n):\n",
    "            if (p[i]==p[j]) or (abs(p[i]-p[j])==abs(i-j)):\n",
    "                f+=1\n",
    "    p.insert(0, f)\n",
    "    return p"
   ]
  },
  {
   "cell_type": "code",
   "execution_count": 4,
   "metadata": {},
   "outputs": [],
   "source": [
    "def Crossover(p1,p2):\n",
    "    n=len(p1)\n",
    "    r=rn.randint(1, n-1)\n",
    "    ch1=p1.copy()\n",
    "    ch2=p2.copy()\n",
    "    ch1[r:]=p2[r:]\n",
    "    ch2[r:]=p1[r:]\n",
    "    return ch1,ch2"
   ]
  },
  {
   "cell_type": "code",
   "execution_count": 5,
   "metadata": {},
   "outputs": [],
   "source": [
    "def CreatPop(n,npop):\n",
    "    population=[CreatCH(n) for i in range(npop)]\n",
    "    return population"
   ]
  },
  {
   "cell_type": "code",
   "execution_count": 6,
   "metadata": {},
   "outputs": [],
   "source": [
    "def Mution(p):\n",
    "    r=rn.randint(0, len(p)-1)\n",
    "    p[r]=rn.randint(1, len(p))\n",
    "    return p"
   ]
  },
  {
   "cell_type": "code",
   "execution_count": 7,
   "metadata": {},
   "outputs": [],
   "source": [
    "n=4\n",
    "npop=50\n",
    "population=CreatPop(n, npop)\n",
    "for i in range(npop):\n",
    "    population[i]=Fitnes(population[i])\n",
    "population.sort\n",
    "best=population[0]"
   ]
  },
  {
   "cell_type": "code",
   "execution_count": 8,
   "metadata": {},
   "outputs": [
    {
     "name": "stdout",
     "output_type": "stream",
     "text": [
      "[0, 3, 1, 4, 2]\n"
     ]
    }
   ],
   "source": [
    "while best[0]!=0:\n",
    "    Newpop=[]\n",
    "    for i in range(0,npop,2):\n",
    "        ch1,ch2=Crossover(population[i][1:], population[i+1][1:])\n",
    "        ch1=Mution(ch1)\n",
    "        ch2=Mution(ch2)\n",
    "        ch1=Fitnes(ch1)\n",
    "        ch2=Fitnes(ch2)\n",
    "        Newpop.append(ch1)\n",
    "        Newpop.append(ch2)\n",
    "    population=population+Newpop\n",
    "    population.sort()\n",
    "    population=population[:npop]\n",
    "    best=population[0]\n",
    "    print(best)"
   ]
  }
 ],
 "metadata": {
  "kernelspec": {
   "display_name": "Python 3",
   "language": "python",
   "name": "python3"
  },
  "language_info": {
   "codemirror_mode": {
    "name": "ipython",
    "version": 3
   },
   "file_extension": ".py",
   "mimetype": "text/x-python",
   "name": "python",
   "nbconvert_exporter": "python",
   "pygments_lexer": "ipython3",
   "version": "3.12.0"
  }
 },
 "nbformat": 4,
 "nbformat_minor": 2
}
